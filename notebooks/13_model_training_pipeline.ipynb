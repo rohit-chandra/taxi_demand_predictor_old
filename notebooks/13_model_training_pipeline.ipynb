{
 "cells": [
  {
   "cell_type": "code",
   "execution_count": 3,
   "metadata": {},
   "outputs": [],
   "source": [
    "import os"
   ]
  },
  {
   "cell_type": "code",
   "execution_count": 1,
   "metadata": {},
   "outputs": [
    {
     "data": {
      "text/plain": [
       "'d:\\\\Courses\\\\Pau_ML_course\\\\Taxi_demand_predictor\\\\notebooks'"
      ]
     },
     "execution_count": 1,
     "metadata": {},
     "output_type": "execute_result"
    }
   ],
   "source": [
    "%pwd"
   ]
  },
  {
   "cell_type": "code",
   "execution_count": 4,
   "metadata": {},
   "outputs": [],
   "source": [
    "os.chdir(\"../\")"
   ]
  },
  {
   "cell_type": "code",
   "execution_count": 5,
   "metadata": {},
   "outputs": [
    {
     "data": {
      "text/plain": [
       "'d:\\\\Courses\\\\Pau_ML_course\\\\Taxi_demand_predictor'"
      ]
     },
     "execution_count": 5,
     "metadata": {},
     "output_type": "execute_result"
    }
   ],
   "source": [
    "%pwd"
   ]
  },
  {
   "attachments": {},
   "cell_type": "markdown",
   "metadata": {},
   "source": [
    "### Read the data from Feature Store\n",
    "\n",
    "- Save the model in Hopsworks model registry which can be used to generate predictions"
   ]
  },
  {
   "cell_type": "code",
   "execution_count": 10,
   "metadata": {},
   "outputs": [],
   "source": [
    "import src.config as config\n",
    "import hopsworks"
   ]
  },
  {
   "cell_type": "code",
   "execution_count": 8,
   "metadata": {},
   "outputs": [
    {
     "name": "stdout",
     "output_type": "stream",
     "text": [
      "Connected. Call `.close()` to terminate connection gracefully.\n",
      "\n",
      "Logged in to project, explore it here https://c.app.hopsworks.ai:443/p/59568\n",
      "Connected. Call `.close()` to terminate connection gracefully.\n"
     ]
    }
   ],
   "source": [
    "# connect to the project\n",
    "project = hopsworks.login(\n",
    "    project = config.HOPSWORKS_PROJECT_NAME,\n",
    "    api_key_value = config.HOPSWORKS_API_KEY\n",
    ")\n",
    "\n",
    "# connect to feature store\n",
    "feature_store = project.get_feature_store()\n",
    "\n",
    "# connect to feature group\n",
    "feature_group = feature_store.get_feature_group(\n",
    "    name = config.FEATURE_GROUP_NAME,\n",
    "    version = config.FEATURE_GROUP_VERSION\n",
    ")"
   ]
  },
  {
   "attachments": {},
   "cell_type": "markdown",
   "metadata": {},
   "source": [
    "### To read data from feature store, we need to create feature view\n",
    "\n",
    "- With feature view, you define how to fetch data from potentially many different feature groups and merge it to get the final data set\n",
    "\n",
    "- Feature view is metadata. It's just a definition for hopsworks to understand how we want to fetch the data"
   ]
  },
  {
   "cell_type": "code",
   "execution_count": 11,
   "metadata": {},
   "outputs": [
    {
     "name": "stdout",
     "output_type": "stream",
     "text": [
      "Feature view already exists. Skipping Creation\n"
     ]
    },
    {
     "ename": "AttributeError",
     "evalue": "module 'src.config' has no attribute 'FEATURE_VIEW_NAME'",
     "output_type": "error",
     "traceback": [
      "\u001b[1;31m---------------------------------------------------------------------------\u001b[0m",
      "\u001b[1;31mAttributeError\u001b[0m                            Traceback (most recent call last)",
      "Cell \u001b[1;32mIn[11], line 17\u001b[0m\n\u001b[0;32m     12\u001b[0m     \u001b[39mprint\u001b[39m(\u001b[39mf\u001b[39m\u001b[39m\"\u001b[39m\u001b[39mFeature view already exists. Skipping Creation\u001b[39m\u001b[39m\"\u001b[39m)\n\u001b[0;32m     15\u001b[0m \u001b[39m# get feature view\u001b[39;00m\n\u001b[0;32m     16\u001b[0m feature_view \u001b[39m=\u001b[39m feature_store\u001b[39m.\u001b[39mget_feature_view(\n\u001b[1;32m---> 17\u001b[0m     name \u001b[39m=\u001b[39m config\u001b[39m.\u001b[39;49mFEATURE_VIEW_NAME,\n\u001b[0;32m     18\u001b[0m     version \u001b[39m=\u001b[39m config\u001b[39m.\u001b[39mFEATURE_VIEW_VERSION\n\u001b[0;32m     19\u001b[0m )\n",
      "\u001b[1;31mAttributeError\u001b[0m: module 'src.config' has no attribute 'FEATURE_VIEW_NAME'"
     ]
    }
   ],
   "source": [
    "# create a feature view (if it doesn't exist yet)\n",
    "# This feature view only uses on feature groups, so the query is trivial\n",
    "\n",
    "try:\n",
    "    # create feature view if it doesn't exist yet\n",
    "    feature_store.create_feature_view(\n",
    "        name = config.FEATURE_VIEW_NAME,\n",
    "        version = config.FEATURE_VIEW_VERSION,\n",
    "        query = feature_group.select_all()\n",
    "    )\n",
    "except:\n",
    "    print(f\"Feature view already exists. Skipping Creation\")\n",
    "    \n",
    "\n",
    "# get feature view\n",
    "feature_view = feature_store.get_feature_view(\n",
    "    name = config.FEATURE_VIEW_NAME,\n",
    "    version = config.FEATURE_VIEW_VERSION\n",
    ")"
   ]
  },
  {
   "attachments": {},
   "cell_type": "markdown",
   "metadata": {},
   "source": [
    "### Now, if you want to fetch the data, we need to create training data"
   ]
  },
  {
   "cell_type": "code",
   "execution_count": null,
   "metadata": {},
   "outputs": [],
   "source": [
    "ts_data = feature_view.training_data(\n",
    "    description = \"Time series hourly taxi rides\",\n",
    ")"
   ]
  },
  {
   "cell_type": "code",
   "execution_count": null,
   "metadata": {},
   "outputs": [],
   "source": []
  },
  {
   "cell_type": "code",
   "execution_count": null,
   "metadata": {},
   "outputs": [],
   "source": []
  }
 ],
 "metadata": {
  "kernelspec": {
   "display_name": "taxi_demand_predictor",
   "language": "python",
   "name": "python3"
  },
  "language_info": {
   "codemirror_mode": {
    "name": "ipython",
    "version": 3
   },
   "file_extension": ".py",
   "mimetype": "text/x-python",
   "name": "python",
   "nbconvert_exporter": "python",
   "pygments_lexer": "ipython3",
   "version": "3.9.16"
  },
  "orig_nbformat": 4
 },
 "nbformat": 4,
 "nbformat_minor": 2
}
